{
 "cells": [
  {
   "cell_type": "code",
   "execution_count": 4,
   "id": "7b7dd410",
   "metadata": {},
   "outputs": [
    {
     "name": "stdout",
     "output_type": "stream",
     "text": [
      "[[69 63 52]\n",
      " [32 57 15]\n",
      " [74 67 52]\n",
      " [95 60 87]\n",
      " [ 9 83 92]\n",
      " [22 97 67]\n",
      " [92 22 96]\n",
      " [59 49 95]\n",
      " [65 44 56]\n",
      " [67 93 13]]\n"
     ]
    }
   ],
   "source": [
    "import numpy as np\n",
    "rand_array = np.random.randint(1,100,(10,3))\n",
    "print(rand_array)"
   ]
  },
  {
   "cell_type": "code",
   "execution_count": null,
   "id": "ecd2a20b",
   "metadata": {},
   "outputs": [],
   "source": []
  }
 ],
 "metadata": {
  "kernelspec": {
   "display_name": "Python 3 (ipykernel)",
   "language": "python",
   "name": "python3"
  },
  "language_info": {
   "codemirror_mode": {
    "name": "ipython",
    "version": 3
   },
   "file_extension": ".py",
   "mimetype": "text/x-python",
   "name": "python",
   "nbconvert_exporter": "python",
   "pygments_lexer": "ipython3",
   "version": "3.9.13"
  }
 },
 "nbformat": 4,
 "nbformat_minor": 5
}
